{
 "cells": [
  {
   "cell_type": "markdown",
   "metadata": {
    "id": "1DH2ISL0Kn8L"
   },
   "source": [
    "## Goals"
   ]
  },
  {
   "cell_type": "markdown",
   "metadata": {
    "id": "fyNRSVCvKo0e"
   },
   "source": [
    "1. Melihat segmentasi pelanggan\n",
    "2. Melihat performa produk\n",
    "3. Melihat tren penjualan\n",
    "4. Melihat review terhadap produk, dll"
   ]
  },
  {
   "cell_type": "markdown",
   "metadata": {},
   "source": [
    "## Data Requirements"
   ]
  },
  {
   "cell_type": "code",
   "execution_count": 46,
   "metadata": {
    "id": "MHUsnon5l5yo"
   },
   "outputs": [],
   "source": [
    "# Import dependencies\n",
    "import sqlite3\n",
    "import pandas as pd\n",
    "import numpy as np\n",
    "import seaborn as sns\n",
    "import matplotlib.pyplot as plt"
   ]
  },
  {
   "cell_type": "code",
   "execution_count": 2,
   "metadata": {
    "id": "v31KzqKnling"
   },
   "outputs": [
    {
     "name": "stdout",
     "output_type": "stream",
     "text": [
      "[('Orders',), ('Products',), ('Customers',), ('Sellers',), ('Geolocation',)]\n"
     ]
    }
   ],
   "source": [
    "# Create connection\n",
    "connection = sqlite3.connect('Olist E-commerce.db')\n",
    "def fetch_data(conn):\n",
    "    cursorObj = conn.cursor()\n",
    "    cursorObj.execute('SELECT name from sqlite_master where type= \"table\"')\n",
    "    print(cursorObj.fetchall())\n",
    "    \n",
    "fetch_data(connection)"
   ]
  },
  {
   "cell_type": "code",
   "execution_count": 3,
   "metadata": {
    "id": "RjnGaIillubA"
   },
   "outputs": [
    {
     "data": {
      "text/html": [
       "<div>\n",
       "<style scoped>\n",
       "    .dataframe tbody tr th:only-of-type {\n",
       "        vertical-align: middle;\n",
       "    }\n",
       "\n",
       "    .dataframe tbody tr th {\n",
       "        vertical-align: top;\n",
       "    }\n",
       "\n",
       "    .dataframe thead th {\n",
       "        text-align: right;\n",
       "    }\n",
       "</style>\n",
       "<table border=\"1\" class=\"dataframe\">\n",
       "  <thead>\n",
       "    <tr style=\"text-align: right;\">\n",
       "      <th></th>\n",
       "      <th>customer_id</th>\n",
       "      <th>customer_unique_id</th>\n",
       "      <th>customer_zip_code_prefix</th>\n",
       "      <th>customer_city</th>\n",
       "      <th>customer_state</th>\n",
       "    </tr>\n",
       "  </thead>\n",
       "  <tbody>\n",
       "    <tr>\n",
       "      <th>0</th>\n",
       "      <td>3df704f53d3f1d4818840b34ec672a9f</td>\n",
       "      <td>04cf8185c71090d28baa4407b2e6d600</td>\n",
       "      <td>5271</td>\n",
       "      <td>sao paulo</td>\n",
       "      <td>SP</td>\n",
       "    </tr>\n",
       "    <tr>\n",
       "      <th>1</th>\n",
       "      <td>f5afca14dfa9dc64251cf2b45c54c363</td>\n",
       "      <td>38cad70d154a4dcc42b598d5c01f7ef1</td>\n",
       "      <td>25211</td>\n",
       "      <td>duque de caxias</td>\n",
       "      <td>RJ</td>\n",
       "    </tr>\n",
       "    <tr>\n",
       "      <th>2</th>\n",
       "      <td>be8c14c16a4d47194ccdfe10f1fc5b1a</td>\n",
       "      <td>c86a25b8f5f6c203bb3471553bdc3200</td>\n",
       "      <td>13157</td>\n",
       "      <td>cosmopolis</td>\n",
       "      <td>SP</td>\n",
       "    </tr>\n",
       "  </tbody>\n",
       "</table>\n",
       "</div>"
      ],
      "text/plain": [
       "                        customer_id                customer_unique_id  \\\n",
       "0  3df704f53d3f1d4818840b34ec672a9f  04cf8185c71090d28baa4407b2e6d600   \n",
       "1  f5afca14dfa9dc64251cf2b45c54c363  38cad70d154a4dcc42b598d5c01f7ef1   \n",
       "2  be8c14c16a4d47194ccdfe10f1fc5b1a  c86a25b8f5f6c203bb3471553bdc3200   \n",
       "\n",
       "   customer_zip_code_prefix    customer_city customer_state  \n",
       "0                      5271        sao paulo             SP  \n",
       "1                     25211  duque de caxias             RJ  \n",
       "2                     13157       cosmopolis             SP  "
      ]
     },
     "execution_count": 3,
     "metadata": {},
     "output_type": "execute_result"
    }
   ],
   "source": [
    "# Load data customer\n",
    "customers_table = pd.read_sql_query('SELECT * FROM customers', connection)\n",
    "customers_table.head(3)"
   ]
  },
  {
   "cell_type": "code",
   "execution_count": 4,
   "metadata": {},
   "outputs": [
    {
     "data": {
      "text/html": [
       "<div>\n",
       "<style scoped>\n",
       "    .dataframe tbody tr th:only-of-type {\n",
       "        vertical-align: middle;\n",
       "    }\n",
       "\n",
       "    .dataframe tbody tr th {\n",
       "        vertical-align: top;\n",
       "    }\n",
       "\n",
       "    .dataframe thead th {\n",
       "        text-align: right;\n",
       "    }\n",
       "</style>\n",
       "<table border=\"1\" class=\"dataframe\">\n",
       "  <thead>\n",
       "    <tr style=\"text-align: right;\">\n",
       "      <th></th>\n",
       "      <th>product_id</th>\n",
       "      <th>product_category_name</th>\n",
       "      <th>product_name_lenght</th>\n",
       "      <th>product_description_lenght</th>\n",
       "      <th>product_photos_qty</th>\n",
       "      <th>product_weight_g</th>\n",
       "      <th>product_length_cm</th>\n",
       "      <th>product_height_cm</th>\n",
       "      <th>product_width_cm</th>\n",
       "    </tr>\n",
       "  </thead>\n",
       "  <tbody>\n",
       "    <tr>\n",
       "      <th>0</th>\n",
       "      <td>72d3bf1d3a790f8874096fcf860e3eff</td>\n",
       "      <td>toys</td>\n",
       "      <td>57.0</td>\n",
       "      <td>341.0</td>\n",
       "      <td>2.0</td>\n",
       "      <td>583.0</td>\n",
       "      <td>20.0</td>\n",
       "      <td>21.0</td>\n",
       "      <td>20.0</td>\n",
       "    </tr>\n",
       "    <tr>\n",
       "      <th>1</th>\n",
       "      <td>60184212dae4e6b0da32bf54271a8c4a</td>\n",
       "      <td>watches_gifts</td>\n",
       "      <td>59.0</td>\n",
       "      <td>476.0</td>\n",
       "      <td>2.0</td>\n",
       "      <td>394.0</td>\n",
       "      <td>17.0</td>\n",
       "      <td>11.0</td>\n",
       "      <td>14.0</td>\n",
       "    </tr>\n",
       "    <tr>\n",
       "      <th>2</th>\n",
       "      <td>7564c1759c04fc0a38f2aa84f7a370ee</td>\n",
       "      <td>construction_tools_construction</td>\n",
       "      <td>59.0</td>\n",
       "      <td>2432.0</td>\n",
       "      <td>3.0</td>\n",
       "      <td>1200.0</td>\n",
       "      <td>16.0</td>\n",
       "      <td>11.0</td>\n",
       "      <td>11.0</td>\n",
       "    </tr>\n",
       "  </tbody>\n",
       "</table>\n",
       "</div>"
      ],
      "text/plain": [
       "                         product_id            product_category_name  \\\n",
       "0  72d3bf1d3a790f8874096fcf860e3eff                             toys   \n",
       "1  60184212dae4e6b0da32bf54271a8c4a                    watches_gifts   \n",
       "2  7564c1759c04fc0a38f2aa84f7a370ee  construction_tools_construction   \n",
       "\n",
       "   product_name_lenght  product_description_lenght  product_photos_qty  \\\n",
       "0                 57.0                       341.0                 2.0   \n",
       "1                 59.0                       476.0                 2.0   \n",
       "2                 59.0                      2432.0                 3.0   \n",
       "\n",
       "   product_weight_g  product_length_cm  product_height_cm  product_width_cm  \n",
       "0             583.0               20.0               21.0              20.0  \n",
       "1             394.0               17.0               11.0              14.0  \n",
       "2            1200.0               16.0               11.0              11.0  "
      ]
     },
     "execution_count": 4,
     "metadata": {},
     "output_type": "execute_result"
    }
   ],
   "source": [
    "# Load data product\n",
    "products_table = pd.read_sql_query('SELECT * FROM PRODUCTS', connection)\n",
    "products_table.head(3)"
   ]
  },
  {
   "cell_type": "code",
   "execution_count": 5,
   "metadata": {},
   "outputs": [
    {
     "data": {
      "text/html": [
       "<div>\n",
       "<style scoped>\n",
       "    .dataframe tbody tr th:only-of-type {\n",
       "        vertical-align: middle;\n",
       "    }\n",
       "\n",
       "    .dataframe tbody tr th {\n",
       "        vertical-align: top;\n",
       "    }\n",
       "\n",
       "    .dataframe thead th {\n",
       "        text-align: right;\n",
       "    }\n",
       "</style>\n",
       "<table border=\"1\" class=\"dataframe\">\n",
       "  <thead>\n",
       "    <tr style=\"text-align: right;\">\n",
       "      <th></th>\n",
       "      <th>order_id</th>\n",
       "      <th>customer_id</th>\n",
       "      <th>order_status</th>\n",
       "      <th>order_purchase_timestamp</th>\n",
       "      <th>order_approved_at</th>\n",
       "      <th>order_delivered_carrier_date</th>\n",
       "      <th>order_delivered_customer_date</th>\n",
       "      <th>order_estimated_delivery_date</th>\n",
       "      <th>order_item_id</th>\n",
       "      <th>product_id</th>\n",
       "      <th>...</th>\n",
       "      <th>payment_sequential</th>\n",
       "      <th>payment_type</th>\n",
       "      <th>payment_installments</th>\n",
       "      <th>payment_value</th>\n",
       "      <th>review_id</th>\n",
       "      <th>review_score</th>\n",
       "      <th>review_comment_title</th>\n",
       "      <th>review_comment_message</th>\n",
       "      <th>review_creation_date</th>\n",
       "      <th>review_answer_timestamp</th>\n",
       "    </tr>\n",
       "  </thead>\n",
       "  <tbody>\n",
       "    <tr>\n",
       "      <th>0</th>\n",
       "      <td>432aaf21d85167c2c86ec9448c4e42cc</td>\n",
       "      <td>3df704f53d3f1d4818840b34ec672a9f</td>\n",
       "      <td>delivered</td>\n",
       "      <td>2018-03-01 14:14:28</td>\n",
       "      <td>2018-03-01 15:10:47</td>\n",
       "      <td>2018-03-02 21:09:20</td>\n",
       "      <td>2018-03-12 23:36:26</td>\n",
       "      <td>2018-03-21 00:00:00</td>\n",
       "      <td>1.0</td>\n",
       "      <td>72d3bf1d3a790f8874096fcf860e3eff</td>\n",
       "      <td>...</td>\n",
       "      <td>1.0</td>\n",
       "      <td>credit_card</td>\n",
       "      <td>1.0</td>\n",
       "      <td>54.36</td>\n",
       "      <td>8f39f09c22b1ceb6e3eb178d8e50bb8a</td>\n",
       "      <td>4.0</td>\n",
       "      <td>None</td>\n",
       "      <td>Gostei do produto</td>\n",
       "      <td>2018-03-13 00:00:00</td>\n",
       "      <td>2018-03-14 10:36:16</td>\n",
       "    </tr>\n",
       "    <tr>\n",
       "      <th>1</th>\n",
       "      <td>641fb0752bf5b5940c376b3a8bb9dc52</td>\n",
       "      <td>f5afca14dfa9dc64251cf2b45c54c363</td>\n",
       "      <td>delivered</td>\n",
       "      <td>2017-12-15 00:06:10</td>\n",
       "      <td>2017-12-15 00:14:55</td>\n",
       "      <td>2017-12-19 01:58:00</td>\n",
       "      <td>2018-01-03 15:09:32</td>\n",
       "      <td>2018-01-16 00:00:00</td>\n",
       "      <td>1.0</td>\n",
       "      <td>60184212dae4e6b0da32bf54271a8c4a</td>\n",
       "      <td>...</td>\n",
       "      <td>1.0</td>\n",
       "      <td>credit_card</td>\n",
       "      <td>10.0</td>\n",
       "      <td>386.33</td>\n",
       "      <td>ffa0d9ba2678dba5fa370295245f473d</td>\n",
       "      <td>4.0</td>\n",
       "      <td>None</td>\n",
       "      <td>Inicialmente, pedi o cancelamento do pedido de...</td>\n",
       "      <td>2018-01-04 00:00:00</td>\n",
       "      <td>2018-01-04 18:29:06</td>\n",
       "    </tr>\n",
       "    <tr>\n",
       "      <th>2</th>\n",
       "      <td>b52cc4919de82b4d696a4380d10804a3</td>\n",
       "      <td>be8c14c16a4d47194ccdfe10f1fc5b1a</td>\n",
       "      <td>delivered</td>\n",
       "      <td>2018-06-13 13:47:39</td>\n",
       "      <td>2018-06-15 02:37:29</td>\n",
       "      <td>2018-06-15 14:22:00</td>\n",
       "      <td>2018-06-18 22:32:44</td>\n",
       "      <td>2018-06-26 00:00:00</td>\n",
       "      <td>1.0</td>\n",
       "      <td>7564c1759c04fc0a38f2aa84f7a370ee</td>\n",
       "      <td>...</td>\n",
       "      <td>1.0</td>\n",
       "      <td>boleto</td>\n",
       "      <td>1.0</td>\n",
       "      <td>55.02</td>\n",
       "      <td>b1dafcdfcddb6feb75222b9c1f2baad3</td>\n",
       "      <td>5.0</td>\n",
       "      <td>None</td>\n",
       "      <td>None</td>\n",
       "      <td>2018-06-19 00:00:00</td>\n",
       "      <td>2018-06-20 11:07:14</td>\n",
       "    </tr>\n",
       "  </tbody>\n",
       "</table>\n",
       "<p>3 rows × 24 columns</p>\n",
       "</div>"
      ],
      "text/plain": [
       "                           order_id                       customer_id  \\\n",
       "0  432aaf21d85167c2c86ec9448c4e42cc  3df704f53d3f1d4818840b34ec672a9f   \n",
       "1  641fb0752bf5b5940c376b3a8bb9dc52  f5afca14dfa9dc64251cf2b45c54c363   \n",
       "2  b52cc4919de82b4d696a4380d10804a3  be8c14c16a4d47194ccdfe10f1fc5b1a   \n",
       "\n",
       "  order_status order_purchase_timestamp    order_approved_at  \\\n",
       "0    delivered      2018-03-01 14:14:28  2018-03-01 15:10:47   \n",
       "1    delivered      2017-12-15 00:06:10  2017-12-15 00:14:55   \n",
       "2    delivered      2018-06-13 13:47:39  2018-06-15 02:37:29   \n",
       "\n",
       "  order_delivered_carrier_date order_delivered_customer_date  \\\n",
       "0          2018-03-02 21:09:20           2018-03-12 23:36:26   \n",
       "1          2017-12-19 01:58:00           2018-01-03 15:09:32   \n",
       "2          2018-06-15 14:22:00           2018-06-18 22:32:44   \n",
       "\n",
       "  order_estimated_delivery_date  order_item_id  \\\n",
       "0           2018-03-21 00:00:00            1.0   \n",
       "1           2018-01-16 00:00:00            1.0   \n",
       "2           2018-06-26 00:00:00            1.0   \n",
       "\n",
       "                         product_id  ... payment_sequential payment_type  \\\n",
       "0  72d3bf1d3a790f8874096fcf860e3eff  ...                1.0  credit_card   \n",
       "1  60184212dae4e6b0da32bf54271a8c4a  ...                1.0  credit_card   \n",
       "2  7564c1759c04fc0a38f2aa84f7a370ee  ...                1.0       boleto   \n",
       "\n",
       "   payment_installments  payment_value                         review_id  \\\n",
       "0                   1.0          54.36  8f39f09c22b1ceb6e3eb178d8e50bb8a   \n",
       "1                  10.0         386.33  ffa0d9ba2678dba5fa370295245f473d   \n",
       "2                   1.0          55.02  b1dafcdfcddb6feb75222b9c1f2baad3   \n",
       "\n",
       "  review_score  review_comment_title  \\\n",
       "0          4.0                  None   \n",
       "1          4.0                  None   \n",
       "2          5.0                  None   \n",
       "\n",
       "                              review_comment_message review_creation_date  \\\n",
       "0                                  Gostei do produto  2018-03-13 00:00:00   \n",
       "1  Inicialmente, pedi o cancelamento do pedido de...  2018-01-04 00:00:00   \n",
       "2                                               None  2018-06-19 00:00:00   \n",
       "\n",
       "   review_answer_timestamp  \n",
       "0      2018-03-14 10:36:16  \n",
       "1      2018-01-04 18:29:06  \n",
       "2      2018-06-20 11:07:14  \n",
       "\n",
       "[3 rows x 24 columns]"
      ]
     },
     "execution_count": 5,
     "metadata": {},
     "output_type": "execute_result"
    }
   ],
   "source": [
    "# Load data order\n",
    "orders_table = pd.read_sql_query('SELECT * FROM orders', connection)\n",
    "orders_table.head(3)"
   ]
  },
  {
   "cell_type": "code",
   "execution_count": 6,
   "metadata": {},
   "outputs": [
    {
     "data": {
      "text/html": [
       "<div>\n",
       "<style scoped>\n",
       "    .dataframe tbody tr th:only-of-type {\n",
       "        vertical-align: middle;\n",
       "    }\n",
       "\n",
       "    .dataframe tbody tr th {\n",
       "        vertical-align: top;\n",
       "    }\n",
       "\n",
       "    .dataframe thead th {\n",
       "        text-align: right;\n",
       "    }\n",
       "</style>\n",
       "<table border=\"1\" class=\"dataframe\">\n",
       "  <thead>\n",
       "    <tr style=\"text-align: right;\">\n",
       "      <th></th>\n",
       "      <th>seller_id</th>\n",
       "      <th>seller_zip_code_prefix</th>\n",
       "      <th>seller_city</th>\n",
       "      <th>seller_state</th>\n",
       "    </tr>\n",
       "  </thead>\n",
       "  <tbody>\n",
       "    <tr>\n",
       "      <th>0</th>\n",
       "      <td>8602a61d680a10a82cceeeda0d99ea3d</td>\n",
       "      <td>1001</td>\n",
       "      <td>sao paulo</td>\n",
       "      <td>SP</td>\n",
       "    </tr>\n",
       "    <tr>\n",
       "      <th>1</th>\n",
       "      <td>dd55f1bb788714a40e7954c3be6df745</td>\n",
       "      <td>1021</td>\n",
       "      <td>sao paulo</td>\n",
       "      <td>SP</td>\n",
       "    </tr>\n",
       "    <tr>\n",
       "      <th>2</th>\n",
       "      <td>e0487761face83d64fcada2408959a36</td>\n",
       "      <td>1021</td>\n",
       "      <td>sao paulo</td>\n",
       "      <td>SP</td>\n",
       "    </tr>\n",
       "  </tbody>\n",
       "</table>\n",
       "</div>"
      ],
      "text/plain": [
       "                          seller_id  seller_zip_code_prefix seller_city  \\\n",
       "0  8602a61d680a10a82cceeeda0d99ea3d                    1001   sao paulo   \n",
       "1  dd55f1bb788714a40e7954c3be6df745                    1021   sao paulo   \n",
       "2  e0487761face83d64fcada2408959a36                    1021   sao paulo   \n",
       "\n",
       "  seller_state  \n",
       "0           SP  \n",
       "1           SP  \n",
       "2           SP  "
      ]
     },
     "execution_count": 6,
     "metadata": {},
     "output_type": "execute_result"
    }
   ],
   "source": [
    "# Load data seller\n",
    "sellers_table = pd.read_sql_query('SELECT * FROM sellers', connection)\n",
    "sellers_table.head(3)"
   ]
  },
  {
   "cell_type": "code",
   "execution_count": 7,
   "metadata": {},
   "outputs": [
    {
     "data": {
      "text/html": [
       "<div>\n",
       "<style scoped>\n",
       "    .dataframe tbody tr th:only-of-type {\n",
       "        vertical-align: middle;\n",
       "    }\n",
       "\n",
       "    .dataframe tbody tr th {\n",
       "        vertical-align: top;\n",
       "    }\n",
       "\n",
       "    .dataframe thead th {\n",
       "        text-align: right;\n",
       "    }\n",
       "</style>\n",
       "<table border=\"1\" class=\"dataframe\">\n",
       "  <thead>\n",
       "    <tr style=\"text-align: right;\">\n",
       "      <th></th>\n",
       "      <th>geolocation_zip_code_prefix</th>\n",
       "      <th>geolocation_lat</th>\n",
       "      <th>geolocation_lng</th>\n",
       "    </tr>\n",
       "  </thead>\n",
       "  <tbody>\n",
       "    <tr>\n",
       "      <th>0</th>\n",
       "      <td>1001</td>\n",
       "      <td>-23.549292</td>\n",
       "      <td>-46.633559</td>\n",
       "    </tr>\n",
       "    <tr>\n",
       "      <th>1</th>\n",
       "      <td>1012</td>\n",
       "      <td>-23.540451</td>\n",
       "      <td>-46.643570</td>\n",
       "    </tr>\n",
       "    <tr>\n",
       "      <th>2</th>\n",
       "      <td>1014</td>\n",
       "      <td>-23.542521</td>\n",
       "      <td>-46.635335</td>\n",
       "    </tr>\n",
       "  </tbody>\n",
       "</table>\n",
       "</div>"
      ],
      "text/plain": [
       "   geolocation_zip_code_prefix  geolocation_lat  geolocation_lng\n",
       "0                         1001       -23.549292       -46.633559\n",
       "1                         1012       -23.540451       -46.643570\n",
       "2                         1014       -23.542521       -46.635335"
      ]
     },
     "execution_count": 7,
     "metadata": {},
     "output_type": "execute_result"
    }
   ],
   "source": [
    "# Load data geolocation\n",
    "geolocation_table = pd.read_sql_query('SELECT * FROM geolocation', connection)\n",
    "geolocation_table.head(3)"
   ]
  },
  {
   "cell_type": "markdown",
   "metadata": {
    "id": "WlX3RVe4Kn8L"
   },
   "source": [
    "## Data Preparation"
   ]
  },
  {
   "cell_type": "code",
   "execution_count": 8,
   "metadata": {},
   "outputs": [
    {
     "name": "stdout",
     "output_type": "stream",
     "text": [
      "<class 'pandas.core.frame.DataFrame'>\n",
      "RangeIndex: 10722 entries, 0 to 10721\n",
      "Data columns (total 5 columns):\n",
      " #   Column                    Non-Null Count  Dtype \n",
      "---  ------                    --------------  ----- \n",
      " 0   customer_id               10722 non-null  object\n",
      " 1   customer_unique_id        10722 non-null  object\n",
      " 2   customer_zip_code_prefix  10722 non-null  int64 \n",
      " 3   customer_city             10722 non-null  object\n",
      " 4   customer_state            10722 non-null  object\n",
      "dtypes: int64(1), object(4)\n",
      "memory usage: 419.0+ KB\n"
     ]
    }
   ],
   "source": [
    "# Customers information\n",
    "customers_table.info()"
   ]
  },
  {
   "cell_type": "code",
   "execution_count": 9,
   "metadata": {},
   "outputs": [],
   "source": [
    "# Change zip code data type\n",
    "customers_table['customer_zip_code_prefix'] = customers_table['customer_zip_code_prefix'].astype('object')"
   ]
  },
  {
   "cell_type": "markdown",
   "metadata": {},
   "source": [
    "`Keterangan`: Pada tabel customer, tipe data zipcode perlu diubah karena zipcode merupakan data nominal"
   ]
  },
  {
   "cell_type": "code",
   "execution_count": 10,
   "metadata": {},
   "outputs": [
    {
     "name": "stdout",
     "output_type": "stream",
     "text": [
      "<class 'pandas.core.frame.DataFrame'>\n",
      "RangeIndex: 7023 entries, 0 to 7022\n",
      "Data columns (total 9 columns):\n",
      " #   Column                      Non-Null Count  Dtype  \n",
      "---  ------                      --------------  -----  \n",
      " 0   product_id                  7023 non-null   object \n",
      " 1   product_category_name       6899 non-null   object \n",
      " 2   product_name_lenght         6902 non-null   float64\n",
      " 3   product_description_lenght  6902 non-null   float64\n",
      " 4   product_photos_qty          6902 non-null   float64\n",
      " 5   product_weight_g            7021 non-null   float64\n",
      " 6   product_length_cm           7021 non-null   float64\n",
      " 7   product_height_cm           7021 non-null   float64\n",
      " 8   product_width_cm            7021 non-null   float64\n",
      "dtypes: float64(7), object(2)\n",
      "memory usage: 493.9+ KB\n"
     ]
    }
   ],
   "source": [
    "# Products information\n",
    "products_table.info()"
   ]
  },
  {
   "cell_type": "markdown",
   "metadata": {},
   "source": [
    "`Keterangan`: Pada tabel products, semua kolom sudah memiliki tipe data yang sesuai"
   ]
  },
  {
   "cell_type": "code",
   "execution_count": 11,
   "metadata": {},
   "outputs": [
    {
     "name": "stdout",
     "output_type": "stream",
     "text": [
      "<class 'pandas.core.frame.DataFrame'>\n",
      "RangeIndex: 11001 entries, 0 to 11000\n",
      "Data columns (total 24 columns):\n",
      " #   Column                         Non-Null Count  Dtype  \n",
      "---  ------                         --------------  -----  \n",
      " 0   order_id                       11000 non-null  object \n",
      " 1   customer_id                    11001 non-null  object \n",
      " 2   order_status                   11001 non-null  object \n",
      " 3   order_purchase_timestamp       11000 non-null  object \n",
      " 4   order_approved_at              10983 non-null  object \n",
      " 5   order_delivered_carrier_date   10802 non-null  object \n",
      " 6   order_delivered_customer_date  10685 non-null  object \n",
      " 7   order_estimated_delivery_date  11000 non-null  object \n",
      " 8   order_item_id                  10920 non-null  float64\n",
      " 9   product_id                     10920 non-null  object \n",
      " 10  seller_id                      10920 non-null  object \n",
      " 11  shipping_limit_date            10920 non-null  object \n",
      " 12  price                          10920 non-null  float64\n",
      " 13  freight_value                  10920 non-null  float64\n",
      " 14  payment_sequential             10998 non-null  float64\n",
      " 15  payment_type                   10998 non-null  object \n",
      " 16  payment_installments           10998 non-null  float64\n",
      " 17  payment_value                  10998 non-null  float64\n",
      " 18  review_id                      11000 non-null  object \n",
      " 19  review_score                   11000 non-null  float64\n",
      " 20  review_comment_title           1298 non-null   object \n",
      " 21  review_comment_message         4735 non-null   object \n",
      " 22  review_creation_date           10999 non-null  object \n",
      " 23  review_answer_timestamp        10999 non-null  object \n",
      "dtypes: float64(7), object(17)\n",
      "memory usage: 2.0+ MB\n"
     ]
    }
   ],
   "source": [
    "# Orders information\n",
    "orders_table.info()"
   ]
  },
  {
   "cell_type": "code",
   "execution_count": 12,
   "metadata": {},
   "outputs": [],
   "source": [
    "# Change id data type\n",
    "orders_table['order_item_id'] = orders_table['order_item_id'].astype('object')\n",
    "\n",
    "# Change date data type\n",
    "orders_table['order_purchase_timestamp'] = pd.to_datetime(orders_table['order_purchase_timestamp'])\n",
    "orders_table['order_approved_at'] = pd.to_datetime(orders_table['order_approved_at'])\n",
    "orders_table['order_delivered_carrier_date'] = pd.to_datetime(orders_table['order_delivered_carrier_date'])\n",
    "orders_table['order_delivered_customer_date'] = pd.to_datetime(orders_table['order_delivered_customer_date'])\n",
    "orders_table['order_estimated_delivery_date'] = pd.to_datetime(orders_table['order_estimated_delivery_date'])\n",
    "orders_table['shipping_limit_date'] = pd.to_datetime(orders_table['shipping_limit_date'])\n",
    "orders_table['review_creation_date'] = pd.to_datetime(orders_table['review_creation_date'])\n",
    "orders_table['review_answer_timestamp'] = pd.to_datetime(orders_table['review_answer_timestamp'])"
   ]
  },
  {
   "cell_type": "markdown",
   "metadata": {},
   "source": [
    "`Keterangan`: Pada tabel orders, tipe data id perlu diubah menjadi object dan kolom-kolom yang memiliki rentang tanggal dan waktu perlu diubah menjadi datetime"
   ]
  },
  {
   "cell_type": "code",
   "execution_count": 13,
   "metadata": {},
   "outputs": [
    {
     "name": "stdout",
     "output_type": "stream",
     "text": [
      "<class 'pandas.core.frame.DataFrame'>\n",
      "RangeIndex: 3095 entries, 0 to 3094\n",
      "Data columns (total 4 columns):\n",
      " #   Column                  Non-Null Count  Dtype \n",
      "---  ------                  --------------  ----- \n",
      " 0   seller_id               3095 non-null   object\n",
      " 1   seller_zip_code_prefix  3095 non-null   int64 \n",
      " 2   seller_city             3095 non-null   object\n",
      " 3   seller_state            3095 non-null   object\n",
      "dtypes: int64(1), object(3)\n",
      "memory usage: 96.8+ KB\n"
     ]
    }
   ],
   "source": [
    "# Sellers information\n",
    "sellers_table.info()"
   ]
  },
  {
   "cell_type": "code",
   "execution_count": 14,
   "metadata": {},
   "outputs": [],
   "source": [
    "# Change zip code data type\n",
    "sellers_table['seller_zip_code_prefix'] = sellers_table['seller_zip_code_prefix'].astype('object')"
   ]
  },
  {
   "cell_type": "markdown",
   "metadata": {},
   "source": [
    "`Keterangan`: Pada tabel sellers, tipe data zipcode perlu diubah karena zipcode merupakan data nominal"
   ]
  },
  {
   "cell_type": "code",
   "execution_count": 15,
   "metadata": {},
   "outputs": [
    {
     "name": "stdout",
     "output_type": "stream",
     "text": [
      "<class 'pandas.core.frame.DataFrame'>\n",
      "RangeIndex: 7125 entries, 0 to 7124\n",
      "Data columns (total 3 columns):\n",
      " #   Column                       Non-Null Count  Dtype  \n",
      "---  ------                       --------------  -----  \n",
      " 0   geolocation_zip_code_prefix  7125 non-null   int64  \n",
      " 1   geolocation_lat              7125 non-null   float64\n",
      " 2   geolocation_lng              7125 non-null   float64\n",
      "dtypes: float64(2), int64(1)\n",
      "memory usage: 167.1 KB\n"
     ]
    }
   ],
   "source": [
    "# Geolocation information\n",
    "geolocation_table.info()"
   ]
  },
  {
   "cell_type": "code",
   "execution_count": 16,
   "metadata": {},
   "outputs": [],
   "source": [
    "# Change zip data type\n",
    "geolocation_table['geolocation_zip_code_prefix'] = geolocation_table['geolocation_zip_code_prefix'].astype('object')"
   ]
  },
  {
   "cell_type": "markdown",
   "metadata": {},
   "source": [
    "`Keterangan`: Pada tabel geolocation, tipe data zipcode perlu diubah karena zipcode merupakan data nominal"
   ]
  },
  {
   "cell_type": "markdown",
   "metadata": {},
   "source": [
    "#### Duplicate"
   ]
  },
  {
   "cell_type": "code",
   "execution_count": 17,
   "metadata": {},
   "outputs": [
    {
     "name": "stdout",
     "output_type": "stream",
     "text": [
      "Jumlah data duplikat pada tabel customer adalah 0\n",
      "Jumlah data duplikat pada tabel product adalah 0\n",
      "Jumlah data duplikat pada tabel order adalah 0\n",
      "Jumlah data duplikat pada tabel seller adalah 0\n",
      "Jumlah data duplikat pada tabel geolocation adalah 0\n"
     ]
    }
   ],
   "source": [
    "# Check duplicate\n",
    "tmp = ['customer', 'product', 'order', 'seller', 'geolocation']\n",
    "tables = [customers_table,products_table,orders_table,sellers_table,geolocation_table]\n",
    "\n",
    "for i in range(len(tables)):\n",
    "    print(f'Jumlah data duplikat pada tabel {tmp[i]} adalah {tables[i].duplicated().sum()}')"
   ]
  },
  {
   "cell_type": "markdown",
   "metadata": {},
   "source": [
    "#### Null"
   ]
  },
  {
   "cell_type": "code",
   "execution_count": 18,
   "metadata": {
    "id": "cAGzDisgKn8M"
   },
   "outputs": [],
   "source": [
    "# Check null function\n",
    "def null_value(df):\n",
    "    cols = df.isnull().sum().sort_values(ascending=False)\n",
    "    percent = cols/len(df)\n",
    "    new_df = pd.concat([cols, percent], axis=1, keys=['Jumlah', 'Persentase'])\n",
    "    \n",
    "    if (new_df[new_df['Jumlah'] > 0].shape[0] == 0):\n",
    "        print(\"Kolom ini tidak memiliki nilai null\")\n",
    "    else:\n",
    "        return new_df[new_df['Jumlah'] > 0]"
   ]
  },
  {
   "cell_type": "code",
   "execution_count": 19,
   "metadata": {},
   "outputs": [
    {
     "name": "stdout",
     "output_type": "stream",
     "text": [
      "Kolom ini tidak memiliki nilai null\n"
     ]
    }
   ],
   "source": [
    "# Check null on customers_table\n",
    "null_value(customers_table)"
   ]
  },
  {
   "cell_type": "code",
   "execution_count": 20,
   "metadata": {},
   "outputs": [
    {
     "data": {
      "text/html": [
       "<div>\n",
       "<style scoped>\n",
       "    .dataframe tbody tr th:only-of-type {\n",
       "        vertical-align: middle;\n",
       "    }\n",
       "\n",
       "    .dataframe tbody tr th {\n",
       "        vertical-align: top;\n",
       "    }\n",
       "\n",
       "    .dataframe thead th {\n",
       "        text-align: right;\n",
       "    }\n",
       "</style>\n",
       "<table border=\"1\" class=\"dataframe\">\n",
       "  <thead>\n",
       "    <tr style=\"text-align: right;\">\n",
       "      <th></th>\n",
       "      <th>Jumlah</th>\n",
       "      <th>Persentase</th>\n",
       "    </tr>\n",
       "  </thead>\n",
       "  <tbody>\n",
       "    <tr>\n",
       "      <th>product_category_name</th>\n",
       "      <td>124</td>\n",
       "      <td>0.017656</td>\n",
       "    </tr>\n",
       "    <tr>\n",
       "      <th>product_name_lenght</th>\n",
       "      <td>121</td>\n",
       "      <td>0.017229</td>\n",
       "    </tr>\n",
       "    <tr>\n",
       "      <th>product_description_lenght</th>\n",
       "      <td>121</td>\n",
       "      <td>0.017229</td>\n",
       "    </tr>\n",
       "    <tr>\n",
       "      <th>product_photos_qty</th>\n",
       "      <td>121</td>\n",
       "      <td>0.017229</td>\n",
       "    </tr>\n",
       "    <tr>\n",
       "      <th>product_weight_g</th>\n",
       "      <td>2</td>\n",
       "      <td>0.000285</td>\n",
       "    </tr>\n",
       "    <tr>\n",
       "      <th>product_length_cm</th>\n",
       "      <td>2</td>\n",
       "      <td>0.000285</td>\n",
       "    </tr>\n",
       "    <tr>\n",
       "      <th>product_height_cm</th>\n",
       "      <td>2</td>\n",
       "      <td>0.000285</td>\n",
       "    </tr>\n",
       "    <tr>\n",
       "      <th>product_width_cm</th>\n",
       "      <td>2</td>\n",
       "      <td>0.000285</td>\n",
       "    </tr>\n",
       "  </tbody>\n",
       "</table>\n",
       "</div>"
      ],
      "text/plain": [
       "                            Jumlah  Persentase\n",
       "product_category_name          124    0.017656\n",
       "product_name_lenght            121    0.017229\n",
       "product_description_lenght     121    0.017229\n",
       "product_photos_qty             121    0.017229\n",
       "product_weight_g                 2    0.000285\n",
       "product_length_cm                2    0.000285\n",
       "product_height_cm                2    0.000285\n",
       "product_width_cm                 2    0.000285"
      ]
     },
     "execution_count": 20,
     "metadata": {},
     "output_type": "execute_result"
    }
   ],
   "source": [
    "# Check null on products_table\n",
    "null_value(products_table)"
   ]
  },
  {
   "cell_type": "code",
   "execution_count": 21,
   "metadata": {},
   "outputs": [
    {
     "name": "stdout",
     "output_type": "stream",
     "text": [
      "Kolom ini tidak memiliki nilai null\n"
     ]
    }
   ],
   "source": [
    "# Handle null value in products_table\n",
    "products_no_null = products_table.copy()\n",
    "products_no_null.dropna(inplace=True)\n",
    "null_value(products_no_null)"
   ]
  },
  {
   "cell_type": "markdown",
   "metadata": {},
   "source": [
    "`Keterangan`: Nilai null pada kolom product akan didrop karena jumlahnya tidak terlalu signifikan dan sulit mencari informasi untuk melakukan imputasi"
   ]
  },
  {
   "cell_type": "code",
   "execution_count": 22,
   "metadata": {},
   "outputs": [
    {
     "data": {
      "text/html": [
       "<div>\n",
       "<style scoped>\n",
       "    .dataframe tbody tr th:only-of-type {\n",
       "        vertical-align: middle;\n",
       "    }\n",
       "\n",
       "    .dataframe tbody tr th {\n",
       "        vertical-align: top;\n",
       "    }\n",
       "\n",
       "    .dataframe thead th {\n",
       "        text-align: right;\n",
       "    }\n",
       "</style>\n",
       "<table border=\"1\" class=\"dataframe\">\n",
       "  <thead>\n",
       "    <tr style=\"text-align: right;\">\n",
       "      <th></th>\n",
       "      <th>Jumlah</th>\n",
       "      <th>Persentase</th>\n",
       "    </tr>\n",
       "  </thead>\n",
       "  <tbody>\n",
       "    <tr>\n",
       "      <th>review_comment_title</th>\n",
       "      <td>9703</td>\n",
       "      <td>0.882011</td>\n",
       "    </tr>\n",
       "    <tr>\n",
       "      <th>review_comment_message</th>\n",
       "      <td>6266</td>\n",
       "      <td>0.569585</td>\n",
       "    </tr>\n",
       "    <tr>\n",
       "      <th>order_delivered_customer_date</th>\n",
       "      <td>316</td>\n",
       "      <td>0.028725</td>\n",
       "    </tr>\n",
       "    <tr>\n",
       "      <th>order_delivered_carrier_date</th>\n",
       "      <td>199</td>\n",
       "      <td>0.018089</td>\n",
       "    </tr>\n",
       "    <tr>\n",
       "      <th>price</th>\n",
       "      <td>81</td>\n",
       "      <td>0.007363</td>\n",
       "    </tr>\n",
       "    <tr>\n",
       "      <th>order_item_id</th>\n",
       "      <td>81</td>\n",
       "      <td>0.007363</td>\n",
       "    </tr>\n",
       "    <tr>\n",
       "      <th>product_id</th>\n",
       "      <td>81</td>\n",
       "      <td>0.007363</td>\n",
       "    </tr>\n",
       "    <tr>\n",
       "      <th>seller_id</th>\n",
       "      <td>81</td>\n",
       "      <td>0.007363</td>\n",
       "    </tr>\n",
       "    <tr>\n",
       "      <th>shipping_limit_date</th>\n",
       "      <td>81</td>\n",
       "      <td>0.007363</td>\n",
       "    </tr>\n",
       "    <tr>\n",
       "      <th>freight_value</th>\n",
       "      <td>81</td>\n",
       "      <td>0.007363</td>\n",
       "    </tr>\n",
       "    <tr>\n",
       "      <th>order_approved_at</th>\n",
       "      <td>18</td>\n",
       "      <td>0.001636</td>\n",
       "    </tr>\n",
       "    <tr>\n",
       "      <th>payment_installments</th>\n",
       "      <td>3</td>\n",
       "      <td>0.000273</td>\n",
       "    </tr>\n",
       "    <tr>\n",
       "      <th>payment_value</th>\n",
       "      <td>3</td>\n",
       "      <td>0.000273</td>\n",
       "    </tr>\n",
       "    <tr>\n",
       "      <th>payment_sequential</th>\n",
       "      <td>3</td>\n",
       "      <td>0.000273</td>\n",
       "    </tr>\n",
       "    <tr>\n",
       "      <th>payment_type</th>\n",
       "      <td>3</td>\n",
       "      <td>0.000273</td>\n",
       "    </tr>\n",
       "    <tr>\n",
       "      <th>review_creation_date</th>\n",
       "      <td>2</td>\n",
       "      <td>0.000182</td>\n",
       "    </tr>\n",
       "    <tr>\n",
       "      <th>review_answer_timestamp</th>\n",
       "      <td>2</td>\n",
       "      <td>0.000182</td>\n",
       "    </tr>\n",
       "    <tr>\n",
       "      <th>review_id</th>\n",
       "      <td>1</td>\n",
       "      <td>0.000091</td>\n",
       "    </tr>\n",
       "    <tr>\n",
       "      <th>review_score</th>\n",
       "      <td>1</td>\n",
       "      <td>0.000091</td>\n",
       "    </tr>\n",
       "    <tr>\n",
       "      <th>order_estimated_delivery_date</th>\n",
       "      <td>1</td>\n",
       "      <td>0.000091</td>\n",
       "    </tr>\n",
       "    <tr>\n",
       "      <th>order_purchase_timestamp</th>\n",
       "      <td>1</td>\n",
       "      <td>0.000091</td>\n",
       "    </tr>\n",
       "    <tr>\n",
       "      <th>order_id</th>\n",
       "      <td>1</td>\n",
       "      <td>0.000091</td>\n",
       "    </tr>\n",
       "  </tbody>\n",
       "</table>\n",
       "</div>"
      ],
      "text/plain": [
       "                               Jumlah  Persentase\n",
       "review_comment_title             9703    0.882011\n",
       "review_comment_message           6266    0.569585\n",
       "order_delivered_customer_date     316    0.028725\n",
       "order_delivered_carrier_date      199    0.018089\n",
       "price                              81    0.007363\n",
       "order_item_id                      81    0.007363\n",
       "product_id                         81    0.007363\n",
       "seller_id                          81    0.007363\n",
       "shipping_limit_date                81    0.007363\n",
       "freight_value                      81    0.007363\n",
       "order_approved_at                  18    0.001636\n",
       "payment_installments                3    0.000273\n",
       "payment_value                       3    0.000273\n",
       "payment_sequential                  3    0.000273\n",
       "payment_type                        3    0.000273\n",
       "review_creation_date                2    0.000182\n",
       "review_answer_timestamp             2    0.000182\n",
       "review_id                           1    0.000091\n",
       "review_score                        1    0.000091\n",
       "order_estimated_delivery_date       1    0.000091\n",
       "order_purchase_timestamp            1    0.000091\n",
       "order_id                            1    0.000091"
      ]
     },
     "execution_count": 22,
     "metadata": {},
     "output_type": "execute_result"
    }
   ],
   "source": [
    "# Check null on orders_table\n",
    "null_value(orders_table)"
   ]
  },
  {
   "cell_type": "code",
   "execution_count": 23,
   "metadata": {},
   "outputs": [
    {
     "data": {
      "text/html": [
       "<div>\n",
       "<style scoped>\n",
       "    .dataframe tbody tr th:only-of-type {\n",
       "        vertical-align: middle;\n",
       "    }\n",
       "\n",
       "    .dataframe tbody tr th {\n",
       "        vertical-align: top;\n",
       "    }\n",
       "\n",
       "    .dataframe thead th {\n",
       "        text-align: right;\n",
       "    }\n",
       "</style>\n",
       "<table border=\"1\" class=\"dataframe\">\n",
       "  <thead>\n",
       "    <tr style=\"text-align: right;\">\n",
       "      <th></th>\n",
       "      <th>Jumlah</th>\n",
       "      <th>Persentase</th>\n",
       "    </tr>\n",
       "  </thead>\n",
       "  <tbody>\n",
       "    <tr>\n",
       "      <th>review_comment_title</th>\n",
       "      <td>9418</td>\n",
       "      <td>0.881753</td>\n",
       "    </tr>\n",
       "    <tr>\n",
       "      <th>review_comment_message</th>\n",
       "      <td>6164</td>\n",
       "      <td>0.577100</td>\n",
       "    </tr>\n",
       "  </tbody>\n",
       "</table>\n",
       "</div>"
      ],
      "text/plain": [
       "                        Jumlah  Persentase\n",
       "review_comment_title      9418    0.881753\n",
       "review_comment_message    6164    0.577100"
      ]
     },
     "execution_count": 23,
     "metadata": {},
     "output_type": "execute_result"
    }
   ],
   "source": [
    "# Handle null value in orders_table\n",
    "orders_no_null = orders_table.copy()\n",
    "orders_no_null.dropna(subset=['order_delivered_customer_date','payment_value','review_answer_timestamp','order_approved_at'], inplace=True)\n",
    "null_value(orders_no_null)"
   ]
  },
  {
   "cell_type": "markdown",
   "metadata": {},
   "source": [
    "`Keterangan`: Kolom yang menyangkut waktu dalam pengiriman seperti order, payment, review answer timestamp akan didrop agar tidak bias, sedangkan kolom review title dan review message akan disimpan karena suatu order memungkinkan untuk tidak memiliki review"
   ]
  },
  {
   "cell_type": "code",
   "execution_count": 24,
   "metadata": {},
   "outputs": [
    {
     "name": "stdout",
     "output_type": "stream",
     "text": [
      "Kolom ini tidak memiliki nilai null\n"
     ]
    }
   ],
   "source": [
    "# Check null on sellers_table\n",
    "null_value(sellers_table)"
   ]
  },
  {
   "cell_type": "code",
   "execution_count": 25,
   "metadata": {},
   "outputs": [
    {
     "name": "stdout",
     "output_type": "stream",
     "text": [
      "Kolom ini tidak memiliki nilai null\n"
     ]
    }
   ],
   "source": [
    "# Check null on geolocation_table\n",
    "null_value(geolocation_table)"
   ]
  },
  {
   "cell_type": "markdown",
   "metadata": {},
   "source": [
    "#### Value counts"
   ]
  },
  {
   "cell_type": "code",
   "execution_count": 26,
   "metadata": {},
   "outputs": [],
   "source": [
    "def check_counts(df, columns):\n",
    "    for col in columns:\n",
    "        print(f'Column {col}')\n",
    "        print(df[col].value_counts())\n",
    "        print('-----------------------------------')\n",
    "        print()"
   ]
  },
  {
   "cell_type": "code",
   "execution_count": 28,
   "metadata": {},
   "outputs": [
    {
     "name": "stdout",
     "output_type": "stream",
     "text": [
      "Column customer_city\n",
      "sao paulo               1682\n",
      "rio de janeiro           748\n",
      "belo horizonte           285\n",
      "brasilia                 222\n",
      "salvador                 155\n",
      "                        ... \n",
      "pedrao                     1\n",
      "aracoiaba da serra         1\n",
      "santa maria madalena       1\n",
      "ibira                      1\n",
      "japuiba                    1\n",
      "Name: customer_city, Length: 1662, dtype: int64\n",
      "-----------------------------------\n",
      "\n",
      "Column customer_state\n",
      "SP    4489\n",
      "RJ    1357\n",
      "MG    1228\n",
      "RS     582\n",
      "PR     529\n",
      "SC     392\n",
      "BA     391\n",
      "ES     246\n",
      "GO     240\n",
      "DF     224\n",
      "PE     169\n",
      "CE     144\n",
      "PA     104\n",
      "MT     101\n",
      "MA      85\n",
      "MS      76\n",
      "PB      67\n",
      "RN      63\n",
      "PI      57\n",
      "SE      48\n",
      "AL      42\n",
      "TO      31\n",
      "AM      19\n",
      "RO      17\n",
      "AC      11\n",
      "RR       5\n",
      "AP       5\n",
      "Name: customer_state, dtype: int64\n",
      "-----------------------------------\n",
      "\n"
     ]
    }
   ],
   "source": [
    "# Check the number unique value in customers_table\n",
    "check_counts(customers_table, ['customer_city','customer_state'])"
   ]
  },
  {
   "cell_type": "code",
   "execution_count": 31,
   "metadata": {},
   "outputs": [
    {
     "name": "stdout",
     "output_type": "stream",
     "text": [
      "Column product_category_name\n",
      "bed_bath_table               697\n",
      "sports_leisure               583\n",
      "furniture_decor              553\n",
      "health_beauty                544\n",
      "housewares                   498\n",
      "                            ... \n",
      "home_comfort_2                 2\n",
      "cds_dvds_musicals              1\n",
      "fashion_childrens_clothes      1\n",
      "flowers                        1\n",
      "music                          1\n",
      "Name: product_category_name, Length: 69, dtype: int64\n",
      "-----------------------------------\n",
      "\n"
     ]
    }
   ],
   "source": [
    "# Check the number unique value in products\n",
    "check_counts(products_no_null, ['product_category_name'])"
   ]
  },
  {
   "cell_type": "code",
   "execution_count": 29,
   "metadata": {},
   "outputs": [
    {
     "name": "stdout",
     "output_type": "stream",
     "text": [
      "Column order_status\n",
      "delivered    10680\n",
      "canceled         1\n",
      "Name: order_status, dtype: int64\n",
      "-----------------------------------\n",
      "\n",
      "Column payment_type\n",
      "credit_card    7876\n",
      "boleto         2044\n",
      "voucher         598\n",
      "debit_card      163\n",
      "Name: payment_type, dtype: int64\n",
      "-----------------------------------\n",
      "\n",
      "Column payment_installments\n",
      "1.0     5303\n",
      "2.0     1193\n",
      "3.0     1096\n",
      "4.0      701\n",
      "10.0     619\n",
      "5.0      562\n",
      "8.0      481\n",
      "6.0      442\n",
      "7.0      184\n",
      "9.0       67\n",
      "12.0      14\n",
      "15.0       5\n",
      "20.0       4\n",
      "24.0       3\n",
      "17.0       2\n",
      "13.0       2\n",
      "18.0       1\n",
      "16.0       1\n",
      "11.0       1\n",
      "Name: payment_installments, dtype: int64\n",
      "-----------------------------------\n",
      "\n",
      "Column payment_sequential\n",
      "1.0     10206\n",
      "2.0       301\n",
      "3.0        71\n",
      "4.0        37\n",
      "5.0        18\n",
      "6.0        15\n",
      "7.0         8\n",
      "12.0        5\n",
      "8.0         4\n",
      "11.0        4\n",
      "9.0         3\n",
      "10.0        3\n",
      "18.0        2\n",
      "15.0        1\n",
      "21.0        1\n",
      "16.0        1\n",
      "22.0        1\n",
      "Name: payment_sequential, dtype: int64\n",
      "-----------------------------------\n",
      "\n",
      "Column payment_value\n",
      "50.00     37\n",
      "100.00    34\n",
      "20.00     24\n",
      "73.34     20\n",
      "107.78    18\n",
      "          ..\n",
      "107.94     1\n",
      "137.10     1\n",
      "437.03     1\n",
      "150.50     1\n",
      "441.16     1\n",
      "Name: payment_value, Length: 7518, dtype: int64\n",
      "-----------------------------------\n",
      "\n",
      "Column review_score\n",
      "5.0    6125\n",
      "4.0    2099\n",
      "1.0    1214\n",
      "3.0     867\n",
      "2.0     376\n",
      "Name: review_score, dtype: int64\n",
      "-----------------------------------\n",
      "\n"
     ]
    }
   ],
   "source": [
    "# Check the number unique value in order_status\n",
    "check_counts(orders_no_null, ['order_status', 'payment_type', 'payment_installments', 'payment_sequential','payment_value', 'review_score'])"
   ]
  },
  {
   "cell_type": "code",
   "execution_count": 30,
   "metadata": {},
   "outputs": [],
   "source": [
    "# Drop canceled status because it has only one row\n",
    "orders_no_null.drop(orders_no_null[orders_no_null['order_status']=='canceled'].index, inplace=True)"
   ]
  },
  {
   "cell_type": "code",
   "execution_count": 32,
   "metadata": {},
   "outputs": [
    {
     "name": "stdout",
     "output_type": "stream",
     "text": [
      "Column seller_city\n",
      "sao paulo              694\n",
      "curitiba               127\n",
      "rio de janeiro          96\n",
      "belo horizonte          68\n",
      "ribeirao preto          52\n",
      "                      ... \n",
      "viana                    1\n",
      "saquarema                1\n",
      "sao pedro da aldeia      1\n",
      "bom jardim               1\n",
      "erechim                  1\n",
      "Name: seller_city, Length: 611, dtype: int64\n",
      "-----------------------------------\n",
      "\n",
      "Column seller_state\n",
      "SP    1849\n",
      "PR     349\n",
      "MG     244\n",
      "SC     190\n",
      "RJ     171\n",
      "RS     129\n",
      "GO      40\n",
      "DF      30\n",
      "ES      23\n",
      "BA      19\n",
      "CE      13\n",
      "PE       9\n",
      "PB       6\n",
      "RN       5\n",
      "MS       5\n",
      "MT       4\n",
      "SE       2\n",
      "RO       2\n",
      "AC       1\n",
      "AM       1\n",
      "PA       1\n",
      "PI       1\n",
      "MA       1\n",
      "Name: seller_state, dtype: int64\n",
      "-----------------------------------\n",
      "\n"
     ]
    }
   ],
   "source": [
    "# Check the number unique value in sellers\n",
    "check_counts(sellers_table, ['seller_city','seller_state'])"
   ]
  },
  {
   "cell_type": "markdown",
   "metadata": {},
   "source": [
    "#### Outliers"
   ]
  },
  {
   "cell_type": "code",
   "execution_count": 58,
   "metadata": {},
   "outputs": [
    {
     "name": "stdout",
     "output_type": "stream",
     "text": [
      "Total data in orders_table before handling outliers: 10680\n",
      "Total outliers in orders_table: 838\n",
      "Total data in orders_table after handling outliers: 9842\n"
     ]
    }
   ],
   "source": [
    "# Check outlier in main data which is orders_table\n",
    "order_cols = [x for x in orders_no_null.select_dtypes(include=np.number).columns]\n",
    "order_cols.remove('review_score')\n",
    "for col in order_cols:\n",
    "    q1 = orders_no_null[col].quantile(0.25)\n",
    "    q3 = orders_no_null[col].quantile(0.75)\n",
    "    iqr = q3 - q1\n",
    "    lower = q1 - (iqr * 1.5)\n",
    "    upper = q3 + (iqr * 1.5)\n",
    "    outliers = ((orders_no_null[col] < lower) | (orders_no_null[col] > upper))\n",
    "\n",
    "orders_tmp = orders_no_null[outliers]\n",
    "orders_no_out = orders_no_null[~outliers]\n",
    "print(f'Total data in orders_table before handling outliers: {orders_no_null.shape[0]}')\n",
    "print(f'Total outliers in orders_table: {orders_tmp.shape[0]}')\n",
    "print(f'Total data in orders_table after handling outliers: {orders_no_out.shape[0]}')"
   ]
  },
  {
   "cell_type": "code",
   "execution_count": 59,
   "metadata": {},
   "outputs": [
    {
     "data": {
      "image/png": "[encoded data removed]",
      "text/plain": [
       "<Figure size 1500x800 with 5 Axes>"
      ]
     },
     "metadata": {},
     "output_type": "display_data"
    }
   ],
   "source": [
    "# Check orders distribution after handling outliers\n",
    "plt.figure(figsize=(15, 8))\n",
    "for i in range(len(order_cols)):\n",
    "    plt.subplot(2, 3, i+1)\n",
    "    sns.kdeplot(data=orders_no_out, x=orders_no_out[order_cols[i]])\n",
    "    plt.tight_layout()"
   ]
  },
  {
   "cell_type": "markdown",
   "metadata": {},
   "source": [
    "`Keterangan`: Setelah ini akan dilakukan pengecekan nilai terhadap payment_sequential dan payment_installments untuk diambil nilai yang relevan saja"
   ]
  },
  {
   "cell_type": "code",
   "execution_count": 60,
   "metadata": {},
   "outputs": [
    {
     "name": "stdout",
     "output_type": "stream",
     "text": [
      "Column payment_sequential\n",
      "1.0     9375\n",
      "2.0      293\n",
      "3.0       71\n",
      "4.0       37\n",
      "5.0       18\n",
      "6.0       15\n",
      "7.0        8\n",
      "12.0       5\n",
      "8.0        4\n",
      "11.0       4\n",
      "9.0        3\n",
      "10.0       3\n",
      "18.0       2\n",
      "15.0       1\n",
      "21.0       1\n",
      "16.0       1\n",
      "22.0       1\n",
      "Name: payment_sequential, dtype: int64\n",
      "-----------------------------------\n",
      "\n",
      "Column payment_installments\n",
      "1.0     5068\n",
      "2.0     1146\n",
      "3.0     1040\n",
      "4.0      657\n",
      "5.0      502\n",
      "10.0     422\n",
      "6.0      383\n",
      "8.0      378\n",
      "7.0      167\n",
      "9.0       54\n",
      "12.0      13\n",
      "15.0       4\n",
      "17.0       2\n",
      "13.0       2\n",
      "20.0       1\n",
      "18.0       1\n",
      "16.0       1\n",
      "11.0       1\n",
      "Name: payment_installments, dtype: int64\n",
      "-----------------------------------\n",
      "\n"
     ]
    }
   ],
   "source": [
    "# Check value counts\n",
    "check_counts(orders_no_out, ['payment_sequential','payment_installments'])"
   ]
  },
  {
   "cell_type": "code",
   "execution_count": 61,
   "metadata": {},
   "outputs": [],
   "source": [
    "# Drop unused data\n",
    "orders_no_out = orders_no_out.set_index('payment_sequential')\n",
    "orders_no_out.drop([3,4,5,6,7,8,9,10,11,12,15,16,18,21,22], inplace=True)\n",
    "orders_no_out = orders_no_out.reset_index()"
   ]
  },
  {
   "cell_type": "code",
   "execution_count": 62,
   "metadata": {},
   "outputs": [],
   "source": [
    "# Drop unused data\n",
    "orders_no_out = orders_no_out.set_index('payment_installments')\n",
    "orders_no_out.drop([11,12,13,15,16,17,18,20], inplace=True)\n",
    "orders_no_out = orders_no_out.reset_index()"
   ]
  },
  {
   "cell_type": "code",
   "execution_count": 64,
   "metadata": {},
   "outputs": [
    {
     "name": "stdout",
     "output_type": "stream",
     "text": [
      "Column payment_sequential\n",
      "1.0    9350\n",
      "2.0     293\n",
      "Name: payment_sequential, dtype: int64\n",
      "-----------------------------------\n",
      "\n",
      "Column payment_installments\n",
      "1.0     4894\n",
      "2.0     1146\n",
      "3.0     1040\n",
      "4.0      657\n",
      "5.0      502\n",
      "10.0     422\n",
      "6.0      383\n",
      "8.0      378\n",
      "7.0      167\n",
      "9.0       54\n",
      "Name: payment_installments, dtype: int64\n",
      "-----------------------------------\n",
      "\n"
     ]
    }
   ],
   "source": [
    "# Check\n",
    "check_counts(orders_no_out, ['payment_sequential','payment_installments'])"
   ]
  },
  {
   "cell_type": "markdown",
   "metadata": {},
   "source": [
    "#### Export to CSV for visualizing in Tableau"
   ]
  },
  {
   "cell_type": "code",
   "execution_count": 65,
   "metadata": {},
   "outputs": [],
   "source": [
    "customers_table.to_csv('customers.csv', index=False)\n",
    "geolocation_table.to_csv('geolocation.csv', index=False)\n",
    "orders_no_out.to_csv('orders.csv', index=False)\n",
    "products_no_null.to_csv('products.csv', index=False)\n",
    "sellers_table.to_csv('sellers.csv', index=False)"
   ]
  }
 ],
 "metadata": {
  "colab": {
   "collapsed_sections": [],
   "name": "Template Notebook.ipynb",
   "provenance": []
  },
  "kernelspec": {
   "display_name": "Python 3 (ipykernel)",
   "language": "python",
   "name": "python3"
  },
  "language_info": {
   "codemirror_mode": {
    "name": "ipython",
    "version": 3
   },
   "file_extension": ".py",
   "mimetype": "text/x-python",
   "name": "python",
   "nbconvert_exporter": "python",
   "pygments_lexer": "ipython3",
   "version": "3.9.12"
  }
 },
 "nbformat": 4,
 "nbformat_minor": 1
}
